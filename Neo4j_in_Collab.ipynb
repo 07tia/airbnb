{
  "nbformat": 4,
  "nbformat_minor": 0,
  "metadata": {
    "colab": {
      "provenance": [],
      "include_colab_link": true
    },
    "kernelspec": {
      "name": "python3",
      "display_name": "Python 3"
    },
    "language_info": {
      "name": "python"
    }
  },
  "cells": [
    {
      "cell_type": "markdown",
      "metadata": {
        "id": "view-in-github",
        "colab_type": "text"
      },
      "source": [
        "<a href=\"https://colab.research.google.com/github/07tia/airbnb/blob/main/Neo4j_in_Collab.ipynb\" target=\"_parent\"><img src=\"https://colab.research.google.com/assets/colab-badge.svg\" alt=\"Open In Colab\"/></a>"
      ]
    },
    {
      "cell_type": "markdown",
      "source": [
        "# **Install & Connect**"
      ],
      "metadata": {
        "id": "kZolVBWSZdtY"
      }
    },
    {
      "cell_type": "code",
      "source": [
        "# Step 1: Install the Neo4j Python Driver\n",
        "!pip install neo4j\n",
        "\n",
        "# Step 2: Connect to the AuraDB instance\n",
        "from neo4j import GraphDatabase\n",
        "\n",
        "# Use the URI shown in your screenshot\n",
        "URI = \"neo4j+s://c257d2c3.databases.neo4j.io\"\n",
        "\n",
        "# Replace with the username and password shown earlier\n",
        "AUTH = (\"neo4j\", \"Ujh9-qUPDdgG2zO4Y6x3UEbCF0gRiUqN1PGdZm7GxkQ\")\n",
        "\n",
        "# Step 3: Initialize the driver and verify connection\n",
        "driver = GraphDatabase.driver(URI, auth=AUTH)\n",
        "\n",
        "def test_connection(tx):\n",
        "    return tx.run(\"RETURN 'Connected to Neo4j AuraDB!' AS message\").single()[\"message\"]\n",
        "\n",
        "with driver.session() as session:\n",
        "    print(session.execute_read(test_connection))\n"
      ],
      "metadata": {
        "colab": {
          "base_uri": "https://localhost:8080/"
        },
        "id": "5nDSthzyM0WV",
        "outputId": "54eb274a-7f0a-4977-e384-d5ecbda1551c"
      },
      "execution_count": null,
      "outputs": [
        {
          "output_type": "stream",
          "name": "stdout",
          "text": [
            "Requirement already satisfied: neo4j in /usr/local/lib/python3.11/dist-packages (5.28.1)\n",
            "Requirement already satisfied: pytz in /usr/local/lib/python3.11/dist-packages (from neo4j) (2025.2)\n",
            "Connected to Neo4j AuraDB!\n"
          ]
        }
      ]
    },
    {
      "cell_type": "markdown",
      "source": [
        "# **Load CSV**"
      ],
      "metadata": {
        "id": "Ure5sC79Zid2"
      }
    },
    {
      "source": [
        "from google.colab import drive\n",
        "drive.mount('/content/drive')\n",
        "\n",
        "# Import the pandas library with the alias 'pd'\n",
        "import pandas as pd\n",
        "\n",
        "file_path = '/content/drive/MyDrive/BUDT 737: Group Project/Final Final Project Airbnb/combined_listings.csv'\n",
        "df = pd.read_csv(file_path)"
      ],
      "cell_type": "code",
      "metadata": {
        "colab": {
          "base_uri": "https://localhost:8080/"
        },
        "id": "YvRKJaeshdIO",
        "outputId": "f8b2107a-6123-4cce-d87a-7cfec7824032"
      },
      "execution_count": null,
      "outputs": [
        {
          "output_type": "stream",
          "name": "stdout",
          "text": [
            "Drive already mounted at /content/drive; to attempt to forcibly remount, call drive.mount(\"/content/drive\", force_remount=True).\n"
          ]
        },
        {
          "output_type": "stream",
          "name": "stderr",
          "text": [
            "<ipython-input-4-417dfadbd000>:8: DtypeWarning: Columns (28,29,72) have mixed types. Specify dtype option on import or set low_memory=False.\n",
            "  df = pd.read_csv(file_path)\n"
          ]
        }
      ]
    },
    {
      "cell_type": "code",
      "source": [
        "df.head()\n",
        "df.columns\n"
      ],
      "metadata": {
        "colab": {
          "base_uri": "https://localhost:8080/"
        },
        "id": "mj6mUr_iQc--",
        "outputId": "1a33144f-1af0-4e6b-f90c-d02237a2efa8"
      },
      "execution_count": null,
      "outputs": [
        {
          "output_type": "execute_result",
          "data": {
            "text/plain": [
              "Index(['id', 'listing_url', 'scrape_id', 'last_scraped', 'source', 'name',\n",
              "       'description', 'neighborhood_overview', 'picture_url', 'host_id',\n",
              "       'host_url', 'host_name', 'host_since', 'host_location', 'host_about',\n",
              "       'host_response_time', 'host_response_rate', 'host_acceptance_rate',\n",
              "       'host_is_superhost', 'host_thumbnail_url', 'host_picture_url',\n",
              "       'host_neighbourhood', 'host_listings_count',\n",
              "       'host_total_listings_count', 'host_verifications',\n",
              "       'host_has_profile_pic', 'host_identity_verified', 'neighbourhood',\n",
              "       'neighbourhood_cleansed', 'neighbourhood_group_cleansed', 'latitude',\n",
              "       'longitude', 'property_type', 'room_type', 'accommodates', 'bathrooms',\n",
              "       'bathrooms_text', 'bedrooms', 'beds', 'amenities', 'price',\n",
              "       'minimum_nights', 'maximum_nights', 'minimum_minimum_nights',\n",
              "       'maximum_minimum_nights', 'minimum_maximum_nights',\n",
              "       'maximum_maximum_nights', 'minimum_nights_avg_ntm',\n",
              "       'maximum_nights_avg_ntm', 'calendar_updated', 'has_availability',\n",
              "       'availability_30', 'availability_60', 'availability_90',\n",
              "       'availability_365', 'calendar_last_scraped', 'number_of_reviews',\n",
              "       'number_of_reviews_ltm', 'number_of_reviews_l30d', 'availability_eoy',\n",
              "       'number_of_reviews_ly', 'estimated_occupancy_l365d',\n",
              "       'estimated_revenue_l365d', 'first_review', 'last_review',\n",
              "       'review_scores_rating', 'review_scores_accuracy',\n",
              "       'review_scores_cleanliness', 'review_scores_checkin',\n",
              "       'review_scores_communication', 'review_scores_location',\n",
              "       'review_scores_value', 'license', 'instant_bookable',\n",
              "       'calculated_host_listings_count',\n",
              "       'calculated_host_listings_count_entire_homes',\n",
              "       'calculated_host_listings_count_private_rooms',\n",
              "       'calculated_host_listings_count_shared_rooms', 'reviews_per_month'],\n",
              "      dtype='object')"
            ]
          },
          "metadata": {},
          "execution_count": 5
        }
      ]
    },
    {
      "cell_type": "markdown",
      "source": [
        "# **Define Graph Creation Logic**"
      ],
      "metadata": {
        "id": "8JiqcHGNabym"
      }
    },
    {
      "cell_type": "code",
      "source": [
        "def create_airbnb_graph(tx, row):\n",
        "    tx.run(\"\"\"\n",
        "        MERGE (l:Listing {id: $listing_id})\n",
        "        SET l.price = $price,\n",
        "            l.neighborhood = $neighborhood,\n",
        "            l.room_type = $room_type,\n",
        "            l.property_type = $property_type\n",
        "\n",
        "        MERGE (h:Host {id: $host_id})\n",
        "        MERGE (h)-[:OWNS]->(l)\n",
        "\n",
        "        MERGE (n:Neighborhood {name: $neighborhood})\n",
        "        MERGE (l)-[:LOCATED_IN]->(n)\n",
        "    \"\"\",\n",
        "    listing_id=row[\"id\"],\n",
        "    host_id=row[\"host_id\"],\n",
        "    price=row[\"price\"],\n",
        "    neighborhood=row[\"neighbourhood_cleansed\"],\n",
        "    room_type=row[\"room_type\"],\n",
        "    property_type=row[\"property_type\"])\n"
      ],
      "metadata": {
        "id": "4n_l6OtpQgQX"
      },
      "execution_count": null,
      "outputs": []
    },
    {
      "cell_type": "markdown",
      "source": [
        "# **Prepare Data and Execute Transactions**"
      ],
      "metadata": {
        "id": "HA1acpLYaiCx"
      }
    },
    {
      "cell_type": "code",
      "source": [
        "columns = [\"id\", \"host_id\", \"price\", \"neighbourhood_cleansed\", \"room_type\", \"property_type\"]\n",
        "df_small = df[columns].dropna().head(500)\n",
        "\n",
        "with driver.session() as session:\n",
        "    for _, row in df_small.iterrows():\n",
        "        session.write_transaction(create_airbnb_graph, row)\n"
      ],
      "metadata": {
        "colab": {
          "base_uri": "https://localhost:8080/"
        },
        "id": "m0L7iYmRWz58",
        "outputId": "e0a04e21-e776-4c90-eae7-e58b11933cc2"
      },
      "execution_count": null,
      "outputs": [
        {
          "output_type": "stream",
          "name": "stderr",
          "text": [
            "<ipython-input-7-d7607de3423a>:6: DeprecationWarning: write_transaction has been renamed to execute_write\n",
            "  session.write_transaction(create_airbnb_graph, row)\n"
          ]
        }
      ]
    },
    {
      "cell_type": "markdown",
      "source": [
        "# **Queries**"
      ],
      "metadata": {
        "id": "hNEubpJqTWGm"
      }
    },
    {
      "cell_type": "markdown",
      "source": [
        "# **Business Questions**"
      ],
      "metadata": {
        "id": "cgywEzsTqhbp"
      }
    },
    {
      "cell_type": "markdown",
      "source": [
        "**#1 What makes an Airbnb listing high-priced and why?**\n",
        "\n",
        "High-priced listings are mostly entire homes in popular neighborhoods like Southwest Waterfront and West End.\n",
        "\n",
        "These listings are often owned by multi-property hosts.\n",
        "\n",
        "Key factors: location, room type, and host behavior.\n",
        "\n",
        "\n",
        "\n",
        "*Shows listings over $100 with related host and neighborhood nodes:*"
      ],
      "metadata": {
        "id": "o3ebLiNNpvMd"
      }
    },
    {
      "cell_type": "code",
      "source": [
        "# High-priced listings with their host and neighborhood (Visualizable)\n",
        "with driver.session() as session:\n",
        "    result = session.run(\"\"\"\n",
        "        MATCH (h:Host)-[:OWNS]->(l:Listing)-[:LOCATED_IN]->(n:Neighborhood)\n",
        "        WHERE toFloat(l.price) > 100\n",
        "        RETURN h.id AS host_id, l.id AS listing_id, l.price, n.name AS neighborhood\n",
        "        LIMIT 50\n",
        "    \"\"\")\n",
        "    for record in result:\n",
        "        print(record)\n"
      ],
      "metadata": {
        "colab": {
          "base_uri": "https://localhost:8080/"
        },
        "id": "joQDVWWtqZuP",
        "outputId": "dbf0405e-deac-42d9-bc94-c2a0ebf09cf4"
      },
      "execution_count": null,
      "outputs": [
        {
          "output_type": "stream",
          "name": "stdout",
          "text": [
            "<Record host_id=5326343 listing_id=10617103 l.price='385.0' neighborhood='Southwest Employment Area, Southwest/Waterfront, Fort McNair, Buzzard Point'>\n",
            "<Record host_id=59087346 listing_id=11303521 l.price='107.0' neighborhood='Southwest Employment Area, Southwest/Waterfront, Fort McNair, Buzzard Point'>\n",
            "<Record host_id=11771833 listing_id=12623775 l.price='499.0' neighborhood='Southwest Employment Area, Southwest/Waterfront, Fort McNair, Buzzard Point'>\n",
            "<Record host_id=71002747 listing_id=13865075 l.price='221.0' neighborhood='Southwest Employment Area, Southwest/Waterfront, Fort McNair, Buzzard Point'>\n",
            "<Record host_id=38345667 listing_id=7319641 l.price='276.0' neighborhood='Hawthorne, Barnaby Woods, Chevy Chase'>\n",
            "<Record host_id=46630199 listing_id=8967165 l.price='133.0' neighborhood='Hawthorne, Barnaby Woods, Chevy Chase'>\n",
            "<Record host_id=2534048 listing_id=4565447 l.price='246.0' neighborhood='Ivy City, Arboretum, Trinidad, Carver Langston'>\n",
            "<Record host_id=4176601 listing_id=1825234 l.price='150.0' neighborhood='West End, Foggy Bottom, GWU'>\n",
            "<Record host_id=37580895 listing_id=9428134 l.price='129.0' neighborhood='West End, Foggy Bottom, GWU'>\n",
            "<Record host_id=58166745 listing_id=11176974 l.price='163.0' neighborhood='West End, Foggy Bottom, GWU'>\n",
            "<Record host_id=58166745 listing_id=11866275 l.price='166.0' neighborhood='West End, Foggy Bottom, GWU'>\n",
            "<Record host_id=58166745 listing_id=11868093 l.price='157.0' neighborhood='West End, Foggy Bottom, GWU'>\n",
            "<Record host_id=58166745 listing_id=11868625 l.price='167.0' neighborhood='West End, Foggy Bottom, GWU'>\n",
            "<Record host_id=10017900 listing_id=1936134 l.price='149.0' neighborhood='North Cleveland Park, Forest Hills, Van Ness'>\n",
            "<Record host_id=37919321 listing_id=7387956 l.price='145.0' neighborhood='North Cleveland Park, Forest Hills, Van Ness'>\n",
            "<Record host_id=14008393 listing_id=4767589 l.price='138.0' neighborhood='Brookland, Brentwood, Langdon'>\n",
            "<Record host_id=7495211 listing_id=5904077 l.price='125.0' neighborhood='Brookland, Brentwood, Langdon'>\n",
            "<Record host_id=89373138 listing_id=14506047 l.price='138.0' neighborhood='River Terrace, Benning, Greenway, Dupont Park'>\n",
            "<Record host_id=11476499 listing_id=6491631 l.price='459.0' neighborhood='Near Southeast, Navy Yard'>\n",
            "<Record host_id=74518047 listing_id=13809783 l.price='125.0' neighborhood='Near Southeast, Navy Yard'>\n",
            "<Record host_id=61861443 listing_id=11720627 l.price='116.0' neighborhood='Twining, Fairlawn, Randle Highlands, Penn Branch, Fort Davis Park, Fort Dupont'>\n",
            "<Record host_id=60398867 listing_id=12758628 l.price='207.0' neighborhood='Woodridge, Fort Lincoln, Gateway'>\n",
            "<Record host_id=7408338 listing_id=11413078 l.price='289.0' neighborhood='Historic Anacostia'>\n",
            "<Record host_id=2170422 listing_id=437005 l.price='345.0' neighborhood='Historic Anacostia'>\n",
            "<Record host_id=4752493 listing_id=893529 l.price='350.0' neighborhood='Edgewood, Bloomingdale, Truxton Circle, Eckington'>\n",
            "<Record host_id=11559071 listing_id=2477325 l.price='108.0' neighborhood='Edgewood, Bloomingdale, Truxton Circle, Eckington'>\n",
            "<Record host_id=5872012 listing_id=3627430 l.price='113.0' neighborhood='Edgewood, Bloomingdale, Truxton Circle, Eckington'>\n",
            "<Record host_id=19143862 listing_id=3821808 l.price='104.0' neighborhood='Edgewood, Bloomingdale, Truxton Circle, Eckington'>\n",
            "<Record host_id=476901 listing_id=3897112 l.price='131.0' neighborhood='Edgewood, Bloomingdale, Truxton Circle, Eckington'>\n",
            "<Record host_id=24426199 listing_id=4730124 l.price='105.0' neighborhood='Edgewood, Bloomingdale, Truxton Circle, Eckington'>\n",
            "<Record host_id=19361397 listing_id=5262416 l.price='103.0' neighborhood='Edgewood, Bloomingdale, Truxton Circle, Eckington'>\n",
            "<Record host_id=48259132 listing_id=9295290 l.price='143.0' neighborhood='Edgewood, Bloomingdale, Truxton Circle, Eckington'>\n",
            "<Record host_id=24669071 listing_id=10978189 l.price='212.0' neighborhood='Edgewood, Bloomingdale, Truxton Circle, Eckington'>\n",
            "<Record host_id=10666566 listing_id=12851881 l.price='166.0' neighborhood='Edgewood, Bloomingdale, Truxton Circle, Eckington'>\n",
            "<Record host_id=4343477 listing_id=13635817 l.price='113.0' neighborhood='Edgewood, Bloomingdale, Truxton Circle, Eckington'>\n",
            "<Record host_id=88939509 listing_id=14444701 l.price='166.0' neighborhood='Edgewood, Bloomingdale, Truxton Circle, Eckington'>\n",
            "<Record host_id=89016153 listing_id=14501592 l.price='133.0' neighborhood='Edgewood, Bloomingdale, Truxton Circle, Eckington'>\n",
            "<Record host_id=14062357 listing_id=15063053 l.price='131.0' neighborhood='Edgewood, Bloomingdale, Truxton Circle, Eckington'>\n",
            "<Record host_id=7703359 listing_id=1433344 l.price='336.0' neighborhood='Capitol Hill, Lincoln Park'>\n",
            "<Record host_id=11630609 listing_id=2277705 l.price='132.0' neighborhood='Capitol Hill, Lincoln Park'>\n",
            "<Record host_id=8519659 listing_id=2690487 l.price='136.0' neighborhood='Capitol Hill, Lincoln Park'>\n",
            "<Record host_id=18332074 listing_id=3635540 l.price='158.0' neighborhood='Capitol Hill, Lincoln Park'>\n",
            "<Record host_id=21032851 listing_id=4055607 l.price='180.0' neighborhood='Capitol Hill, Lincoln Park'>\n",
            "<Record host_id=3615132 listing_id=4801046 l.price='117.0' neighborhood='Capitol Hill, Lincoln Park'>\n",
            "<Record host_id=24914253 listing_id=4841217 l.price='267.0' neighborhood='Capitol Hill, Lincoln Park'>\n",
            "<Record host_id=5356790 listing_id=4848799 l.price='122.0' neighborhood='Capitol Hill, Lincoln Park'>\n",
            "<Record host_id=24914253 listing_id=4978657 l.price='211.0' neighborhood='Capitol Hill, Lincoln Park'>\n",
            "<Record host_id=24914253 listing_id=5026926 l.price='309.0' neighborhood='Capitol Hill, Lincoln Park'>\n",
            "<Record host_id=9581259 listing_id=6227307 l.price='389.0' neighborhood='Capitol Hill, Lincoln Park'>\n",
            "<Record host_id=17633 listing_id=6569449 l.price='197.0' neighborhood='Capitol Hill, Lincoln Park'>\n"
          ]
        }
      ]
    },
    {
      "cell_type": "markdown",
      "source": [
        "**2. Are specific neighborhoods saturated with listings?**\n",
        "\n",
        "Capitol Hill and Union Station top the list with 50+ listings each, indicating dense Airbnb presence.\n",
        "\n",
        "Other areas like Columbia Heights and Dupont Circle also show high listing volumes (30–40).\n",
        "\n",
        "Graph in Neo4j shows dense clusters of listings in a few neighborhoods.\n",
        "\n",
        "Suggests oversaturation in certain areas, impacting local housing.\n",
        "\n"
      ],
      "metadata": {
        "id": "LH41V9KHrLu2"
      }
    },
    {
      "cell_type": "code",
      "source": [
        "# Count of listings per neighborhood\n",
        "with driver.session() as session:\n",
        "    result = session.run(\"\"\"\n",
        "        MATCH (l:Listing)-[:LOCATED_IN]->(n:Neighborhood)\n",
        "        RETURN n.name AS neighborhood, COUNT(l) AS listing_count\n",
        "        ORDER BY listing_count DESC\n",
        "        LIMIT 50\n",
        "    \"\"\")\n",
        "    for record in result:\n",
        "        print(record)\n"
      ],
      "metadata": {
        "colab": {
          "base_uri": "https://localhost:8080/"
        },
        "id": "LuunxRY5rJ03",
        "outputId": "8836e2f7-3f07-41b0-f98d-50f9389f81b9"
      },
      "execution_count": null,
      "outputs": [
        {
          "output_type": "stream",
          "name": "stdout",
          "text": [
            "<Record neighborhood='Capitol Hill, Lincoln Park' listing_count=56>\n",
            "<Record neighborhood='Union Station, Stanton Park, Kingman Park' listing_count=53>\n",
            "<Record neighborhood='Columbia Heights, Mt. Pleasant, Pleasant Plains, Park View' listing_count=43>\n",
            "<Record neighborhood='Brightwood Park, Crestwood, Petworth' listing_count=32>\n",
            "<Record neighborhood='Dupont Circle, Connecticut Avenue/K Street' listing_count=30>\n",
            "<Record neighborhood='Edgewood, Bloomingdale, Truxton Circle, Eckington' listing_count=27>\n",
            "<Record neighborhood='Downtown, Chinatown, Penn Quarters, Mount Vernon Square, North Capitol Street' listing_count=25>\n",
            "<Record neighborhood='Shaw, Logan Circle' listing_count=24>\n",
            "<Record neighborhood='Kalorama Heights, Adams Morgan, Lanier Heights' listing_count=23>\n",
            "<Record neighborhood='Georgetown, Burleith/Hillandale' listing_count=20>\n",
            "<Record neighborhood='Takoma, Brightwood, Manor Park' listing_count=18>\n",
            "<Record neighborhood='Howard University, Le Droit Park, Cardozo/Shaw' listing_count=15>\n",
            "<Record neighborhood='Cathedral Heights, McLean Gardens, Glover Park' listing_count=11>\n",
            "<Record neighborhood='Colonial Village, Shepherd Park, North Portal Estates' listing_count=10>\n",
            "<Record neighborhood='Friendship Heights, American University Park, Tenleytown' listing_count=10>\n",
            "<Record neighborhood='Southwest Employment Area, Southwest/Waterfront, Fort McNair, Buzzard Point' listing_count=9>\n",
            "<Record neighborhood='Ivy City, Arboretum, Trinidad, Carver Langston' listing_count=9>\n",
            "<Record neighborhood='West End, Foggy Bottom, GWU' listing_count=9>\n",
            "<Record neighborhood='Cleveland Park, Woodley Park, Massachusetts Avenue Heights, Woodland-Normanstone Terrace' listing_count=9>\n",
            "<Record neighborhood='Brookland, Brentwood, Langdon' listing_count=8>\n",
            "<Record neighborhood='Spring Valley, Palisades, Wesley Heights, Foxhall Crescent, Foxhall Village, Georgetown Reservoir' listing_count=6>\n",
            "<Record neighborhood='Lamont Riggs, Queens Chapel, Fort Totten, Pleasant Hill' listing_count=6>\n",
            "<Record neighborhood='Capitol View, Marshall Heights, Benning Heights' listing_count=6>\n",
            "<Record neighborhood='River Terrace, Benning, Greenway, Dupont Park' listing_count=5>\n",
            "<Record neighborhood='Historic Anacostia' listing_count=5>\n",
            "<Record neighborhood='Eastland Gardens, Kenilworth' listing_count=5>\n",
            "<Record neighborhood='Hawthorne, Barnaby Woods, Chevy Chase' listing_count=4>\n",
            "<Record neighborhood='North Michigan Park, Michigan Park, University Heights' listing_count=4>\n",
            "<Record neighborhood='Congress Heights, Bellevue, Washington Highlands' listing_count=4>\n",
            "<Record neighborhood='Douglas, Shipley Terrace' listing_count=3>\n",
            "<Record neighborhood='North Cleveland Park, Forest Hills, Van Ness' listing_count=2>\n",
            "<Record neighborhood='Near Southeast, Navy Yard' listing_count=2>\n",
            "<Record neighborhood='Woodridge, Fort Lincoln, Gateway' listing_count=2>\n",
            "<Record neighborhood='Fairfax Village, Naylor Gardens, Hillcrest, Summit Park' listing_count=1>\n",
            "<Record neighborhood='Twining, Fairlawn, Randle Highlands, Penn Branch, Fort Davis Park, Fort Dupont' listing_count=1>\n",
            "<Record neighborhood='Sheridan, Barry Farm, Buena Vista' listing_count=1>\n",
            "<Record neighborhood='Mayfair, Hillbrook, Mahaning Heights' listing_count=1>\n",
            "<Record neighborhood='Woodland/Fort Stanton, Garfield Heights, Knox Hill' listing_count=1>\n"
          ]
        }
      ]
    },
    {
      "cell_type": "markdown",
      "source": [
        "Visualization"
      ],
      "metadata": {
        "id": "u4aaSE0_rjnn"
      }
    },
    {
      "cell_type": "code",
      "source": [
        "# Neighborhoods and their listings\n",
        "with driver.session() as session:\n",
        "    result = session.run(\"\"\"\n",
        "        MATCH (n:Neighborhood)<-[:LOCATED_IN]-(l:Listing)\n",
        "        RETURN n.name AS neighborhood, l.id AS listing_id\n",
        "        LIMIT 50\n",
        "    \"\"\")\n",
        "    for record in result:\n",
        "        print(record)\n"
      ],
      "metadata": {
        "colab": {
          "base_uri": "https://localhost:8080/"
        },
        "id": "STHuILXIrgIZ",
        "outputId": "97f91a85-98bd-429e-daf6-c4511350d254"
      },
      "execution_count": null,
      "outputs": [
        {
          "output_type": "stream",
          "name": "stdout",
          "text": [
            "<Record neighborhood='Southwest Employment Area, Southwest/Waterfront, Fort McNair, Buzzard Point' listing_id=1205516>\n",
            "<Record neighborhood='Southwest Employment Area, Southwest/Waterfront, Fort McNair, Buzzard Point' listing_id=4231934>\n",
            "<Record neighborhood='Southwest Employment Area, Southwest/Waterfront, Fort McNair, Buzzard Point' listing_id=6334405>\n",
            "<Record neighborhood='Southwest Employment Area, Southwest/Waterfront, Fort McNair, Buzzard Point' listing_id=6404202>\n",
            "<Record neighborhood='Southwest Employment Area, Southwest/Waterfront, Fort McNair, Buzzard Point' listing_id=7714880>\n",
            "<Record neighborhood='Southwest Employment Area, Southwest/Waterfront, Fort McNair, Buzzard Point' listing_id=10617103>\n",
            "<Record neighborhood='Southwest Employment Area, Southwest/Waterfront, Fort McNair, Buzzard Point' listing_id=11303521>\n",
            "<Record neighborhood='Southwest Employment Area, Southwest/Waterfront, Fort McNair, Buzzard Point' listing_id=12623775>\n",
            "<Record neighborhood='Southwest Employment Area, Southwest/Waterfront, Fort McNair, Buzzard Point' listing_id=13865075>\n",
            "<Record neighborhood='Hawthorne, Barnaby Woods, Chevy Chase' listing_id=1245292>\n",
            "<Record neighborhood='Hawthorne, Barnaby Woods, Chevy Chase' listing_id=7060166>\n",
            "<Record neighborhood='Hawthorne, Barnaby Woods, Chevy Chase' listing_id=7319641>\n",
            "<Record neighborhood='Hawthorne, Barnaby Woods, Chevy Chase' listing_id=8967165>\n",
            "<Record neighborhood='North Michigan Park, Michigan Park, University Heights' listing_id=1472332>\n",
            "<Record neighborhood='North Michigan Park, Michigan Park, University Heights' listing_id=6424291>\n",
            "<Record neighborhood='North Michigan Park, Michigan Park, University Heights' listing_id=6479337>\n",
            "<Record neighborhood='North Michigan Park, Michigan Park, University Heights' listing_id=8381345>\n",
            "<Record neighborhood='Ivy City, Arboretum, Trinidad, Carver Langston' listing_id=1588843>\n",
            "<Record neighborhood='Ivy City, Arboretum, Trinidad, Carver Langston' listing_id=3201115>\n",
            "<Record neighborhood='Ivy City, Arboretum, Trinidad, Carver Langston' listing_id=4565447>\n",
            "<Record neighborhood='Ivy City, Arboretum, Trinidad, Carver Langston' listing_id=5652436>\n",
            "<Record neighborhood='Ivy City, Arboretum, Trinidad, Carver Langston' listing_id=11528631>\n",
            "<Record neighborhood='Ivy City, Arboretum, Trinidad, Carver Langston' listing_id=11529762>\n",
            "<Record neighborhood='Ivy City, Arboretum, Trinidad, Carver Langston' listing_id=11530845>\n",
            "<Record neighborhood='Ivy City, Arboretum, Trinidad, Carver Langston' listing_id=12113216>\n",
            "<Record neighborhood='Ivy City, Arboretum, Trinidad, Carver Langston' listing_id=13727764>\n",
            "<Record neighborhood='West End, Foggy Bottom, GWU' listing_id=1825234>\n",
            "<Record neighborhood='West End, Foggy Bottom, GWU' listing_id=4943572>\n",
            "<Record neighborhood='West End, Foggy Bottom, GWU' listing_id=8118612>\n",
            "<Record neighborhood='West End, Foggy Bottom, GWU' listing_id=8309843>\n",
            "<Record neighborhood='West End, Foggy Bottom, GWU' listing_id=9428134>\n",
            "<Record neighborhood='West End, Foggy Bottom, GWU' listing_id=11176974>\n",
            "<Record neighborhood='West End, Foggy Bottom, GWU' listing_id=11866275>\n",
            "<Record neighborhood='West End, Foggy Bottom, GWU' listing_id=11868093>\n",
            "<Record neighborhood='West End, Foggy Bottom, GWU' listing_id=11868625>\n",
            "<Record neighborhood='North Cleveland Park, Forest Hills, Van Ness' listing_id=1936134>\n",
            "<Record neighborhood='North Cleveland Park, Forest Hills, Van Ness' listing_id=7387956>\n",
            "<Record neighborhood='Brookland, Brentwood, Langdon' listing_id=2554353>\n",
            "<Record neighborhood='Brookland, Brentwood, Langdon' listing_id=3237702>\n",
            "<Record neighborhood='Brookland, Brentwood, Langdon' listing_id=3912498>\n",
            "<Record neighborhood='Brookland, Brentwood, Langdon' listing_id=4767589>\n",
            "<Record neighborhood='Brookland, Brentwood, Langdon' listing_id=5156582>\n",
            "<Record neighborhood='Brookland, Brentwood, Langdon' listing_id=5904077>\n",
            "<Record neighborhood='Brookland, Brentwood, Langdon' listing_id=10654687>\n",
            "<Record neighborhood='Brookland, Brentwood, Langdon' listing_id=12035781>\n",
            "<Record neighborhood='Fairfax Village, Naylor Gardens, Hillcrest, Summit Park' listing_id=5195346>\n",
            "<Record neighborhood='River Terrace, Benning, Greenway, Dupont Park' listing_id=6355197>\n",
            "<Record neighborhood='River Terrace, Benning, Greenway, Dupont Park' listing_id=7384867>\n",
            "<Record neighborhood='River Terrace, Benning, Greenway, Dupont Park' listing_id=7826994>\n",
            "<Record neighborhood='River Terrace, Benning, Greenway, Dupont Park' listing_id=8737926>\n"
          ]
        }
      ]
    },
    {
      "cell_type": "markdown",
      "source": [
        "**3. Do hosts with multiple properties impact pricing or availability?**\n",
        "\n",
        "Hosts with the most listings (up to 15) don’t always charge the most one with 15 listings averages just $35.13.\n",
        "\n",
        "Some mid-tier hosts (5–6 listings) charge over $300 on average.\n",
        "\n",
        "This shows that volume doesn't equal premium pricing — high-priced listings are often held by selective, not high-volume, hosts.\n",
        "\n",
        "Useful for platform policy (e.g., flagging large-scale operators) and host strategy (e.g., balancing volume vs. price)."
      ],
      "metadata": {
        "id": "YC8J-9cyroN2"
      }
    },
    {
      "cell_type": "code",
      "source": [
        "# Hosts with multiple listings and their average listing price\n",
        "with driver.session() as session:\n",
        "    result = session.run(\"\"\"\n",
        "        MATCH (h:Host)-[:OWNS]->(l:Listing)\n",
        "        WHERE l.price IS NOT NULL\n",
        "        WITH h, COUNT(l) AS listing_count, AVG(toFloat(l.price)) AS avg_price\n",
        "        RETURN h.id AS host_id, listing_count, avg_price\n",
        "        ORDER BY listing_count DESC\n",
        "        LIMIT 10\n",
        "    \"\"\")\n",
        "    for record in result:\n",
        "        print(record)\n"
      ],
      "metadata": {
        "colab": {
          "base_uri": "https://localhost:8080/"
        },
        "id": "VIzzeIFjrtB6",
        "outputId": "ebaf00b1-fc35-47ae-8c7d-ce4a5f66acc5"
      },
      "execution_count": null,
      "outputs": [
        {
          "output_type": "stream",
          "name": "stdout",
          "text": [
            "<Record host_id=315148 listing_count=15 avg_price=35.13333333333333>\n",
            "<Record host_id=41047431 listing_count=7 avg_price=144.14285714285714>\n",
            "<Record host_id=9419684 listing_count=6 avg_price=323.5>\n",
            "<Record host_id=5487930 listing_count=6 avg_price=132.66666666666669>\n",
            "<Record host_id=46630199 listing_count=5 avg_price=269.2>\n",
            "<Record host_id=17633 listing_count=5 avg_price=149.4>\n",
            "<Record host_id=14692970 listing_count=5 avg_price=133.2>\n",
            "<Record host_id=30283594 listing_count=5 avg_price=305.6>\n",
            "<Record host_id=41656215 listing_count=5 avg_price=225.0>\n",
            "<Record host_id=16644446 listing_count=5 avg_price=507.6>\n"
          ]
        }
      ]
    },
    {
      "cell_type": "code",
      "source": [
        "# Visualize top commercial hosts\n",
        "with driver.session() as session:\n",
        "    result = session.run(\"\"\"\n",
        "        MATCH (h:Host)-[:OWNS]->(l:Listing)\n",
        "        WITH h, COUNT(l) AS count\n",
        "        WHERE count > 5\n",
        "        MATCH (h)-[:OWNS]->(l)\n",
        "        RETURN h.id AS host_id, l.id AS listing_id, l.price\n",
        "        LIMIT 50\n",
        "    \"\"\")\n",
        "    for record in result:\n",
        "        print(record)\n"
      ],
      "metadata": {
        "colab": {
          "base_uri": "https://localhost:8080/"
        },
        "id": "di1ensVzrw1Z",
        "outputId": "0ad2ba6c-1127-423a-c11b-bd3d8b493ae2"
      },
      "execution_count": null,
      "outputs": [
        {
          "output_type": "stream",
          "name": "stdout",
          "text": [
            "<Record host_id=9419684 listing_id=1864715 l.price='234.0'>\n",
            "<Record host_id=9419684 listing_id=1867513 l.price='413.0'>\n",
            "<Record host_id=9419684 listing_id=2371799 l.price='413.0'>\n",
            "<Record host_id=9419684 listing_id=4092017 l.price='234.0'>\n",
            "<Record host_id=9419684 listing_id=4447266 l.price='234.0'>\n",
            "<Record host_id=9419684 listing_id=4452984 l.price='413.0'>\n",
            "<Record host_id=5487930 listing_id=2964999 l.price='145.0'>\n",
            "<Record host_id=5487930 listing_id=4022565 l.price='135.0'>\n",
            "<Record host_id=5487930 listing_id=4218583 l.price='142.0'>\n",
            "<Record host_id=5487930 listing_id=4343926 l.price='108.0'>\n",
            "<Record host_id=5487930 listing_id=4411488 l.price='122.0'>\n",
            "<Record host_id=5487930 listing_id=11848786 l.price='144.0'>\n",
            "<Record host_id=41047431 listing_id=7800582 l.price='162.0'>\n",
            "<Record host_id=41047431 listing_id=7801335 l.price='128.0'>\n",
            "<Record host_id=41047431 listing_id=8645356 l.price='135.0'>\n",
            "<Record host_id=41047431 listing_id=8645554 l.price='128.0'>\n",
            "<Record host_id=41047431 listing_id=8645700 l.price='135.0'>\n",
            "<Record host_id=41047431 listing_id=8646332 l.price='159.0'>\n",
            "<Record host_id=41047431 listing_id=8646530 l.price='162.0'>\n",
            "<Record host_id=315148 listing_id=887461 l.price='27.0'>\n",
            "<Record host_id=315148 listing_id=888029 l.price='34.0'>\n",
            "<Record host_id=315148 listing_id=973608 l.price='30.0'>\n",
            "<Record host_id=315148 listing_id=2115421 l.price='65.0'>\n",
            "<Record host_id=315148 listing_id=2304761 l.price='55.0'>\n",
            "<Record host_id=315148 listing_id=2657916 l.price='32.0'>\n",
            "<Record host_id=315148 listing_id=3760995 l.price='35.0'>\n",
            "<Record host_id=315148 listing_id=3761001 l.price='30.0'>\n",
            "<Record host_id=315148 listing_id=6490357 l.price='30.0'>\n",
            "<Record host_id=315148 listing_id=6557100 l.price='27.0'>\n",
            "<Record host_id=315148 listing_id=8227337 l.price='29.0'>\n",
            "<Record host_id=315148 listing_id=11296745 l.price='35.0'>\n",
            "<Record host_id=315148 listing_id=65024 l.price='35.0'>\n",
            "<Record host_id=315148 listing_id=841260 l.price='35.0'>\n",
            "<Record host_id=315148 listing_id=860776 l.price='28.0'>\n"
          ]
        }
      ]
    },
    {
      "cell_type": "markdown",
      "source": [
        "**4. How can these insights guide better decisions for cities and hosts?**\n",
        "\n",
        "\n",
        "The top 10 most expensive neighborhoods have average prices ranging from $154 to $292.\n",
        "\n",
        "“Near Southeast, Navy Yard” and “Downtown, Chinatown, Penn Quarters” stand out with the highest average prices, over $280.\n",
        "\n",
        "Many high-priced areas (“Cathedral Heights”, “Historic Anacostia”) are high-demand zones, indicating premium listing potential.\n",
        "\n",
        "This data helps cities focus regulatory or tourism resources in higher-value zones, and helps hosts assess where listings can charge more.\n",
        "\n"
      ],
      "metadata": {
        "id": "YZ1c51Fsr9AL"
      }
    },
    {
      "cell_type": "code",
      "source": [
        "# Average price per neighborhood\n",
        "with driver.session() as session:\n",
        "    result = session.run(\"\"\"\n",
        "        MATCH (l:Listing)-[:LOCATED_IN]->(n:Neighborhood)\n",
        "        WHERE l.price IS NOT NULL\n",
        "        RETURN n.name AS neighborhood, AVG(toFloat(l.price)) AS avg_price\n",
        "        ORDER BY avg_price DESC\n",
        "        LIMIT 10\n",
        "    \"\"\")\n",
        "    for record in result:\n",
        "        print(record)\n"
      ],
      "metadata": {
        "colab": {
          "base_uri": "https://localhost:8080/"
        },
        "id": "tqMWMjsOr80V",
        "outputId": "8aa48be6-0f63-4f51-9bf8-a1d874ee77a1"
      },
      "execution_count": null,
      "outputs": [
        {
          "output_type": "stream",
          "name": "stdout",
          "text": [
            "<Record neighborhood='Near Southeast, Navy Yard' avg_price=292.0>\n",
            "<Record neighborhood='Downtown, Chinatown, Penn Quarters, Mount Vernon Square, North Capitol Street' avg_price=283.12>\n",
            "<Record neighborhood='Cathedral Heights, McLean Gardens, Glover Park' avg_price=187.27272727272725>\n",
            "<Record neighborhood='Cleveland Park, Woodley Park, Massachusetts Avenue Heights, Woodland-Normanstone Terrace' avg_price=181.44444444444446>\n",
            "<Record neighborhood='Historic Anacostia' avg_price=172.8>\n",
            "<Record neighborhood='Southwest Employment Area, Southwest/Waterfront, Fort McNair, Buzzard Point' avg_price=172.66666666666666>\n",
            "<Record neighborhood='Kalorama Heights, Adams Morgan, Lanier Heights' avg_price=170.43478260869566>\n",
            "<Record neighborhood='Union Station, Stanton Park, Kingman Park' avg_price=168.9811320754718>\n",
            "<Record neighborhood='Capitol Hill, Lincoln Park' avg_price=159.30357142857144>\n",
            "<Record neighborhood='Georgetown, Burleith/Hillandale' avg_price=154.70000000000002>\n"
          ]
        }
      ]
    },
    {
      "cell_type": "code",
      "source": [
        "# Listings over $150 in expensive neighborhoods\n",
        "with driver.session() as session:\n",
        "    result = session.run(\"\"\"\n",
        "        MATCH (l:Listing)-[:LOCATED_IN]->(n:Neighborhood)\n",
        "        WHERE toFloat(l.price) > 150\n",
        "        RETURN l.id AS listing_id, l.price, n.name AS neighborhood\n",
        "        LIMIT 50\n",
        "    \"\"\")\n",
        "    for record in result:\n",
        "        print(record)\n"
      ],
      "metadata": {
        "colab": {
          "base_uri": "https://localhost:8080/"
        },
        "id": "lv4BpJSBsDfI",
        "outputId": "284b1685-7eb7-4580-f752-c1c47817b715"
      },
      "execution_count": null,
      "outputs": [
        {
          "output_type": "stream",
          "name": "stdout",
          "text": [
            "<Record listing_id=10617103 l.price='385.0' neighborhood='Southwest Employment Area, Southwest/Waterfront, Fort McNair, Buzzard Point'>\n",
            "<Record listing_id=12623775 l.price='499.0' neighborhood='Southwest Employment Area, Southwest/Waterfront, Fort McNair, Buzzard Point'>\n",
            "<Record listing_id=13865075 l.price='221.0' neighborhood='Southwest Employment Area, Southwest/Waterfront, Fort McNair, Buzzard Point'>\n",
            "<Record listing_id=7319641 l.price='276.0' neighborhood='Hawthorne, Barnaby Woods, Chevy Chase'>\n",
            "<Record listing_id=4565447 l.price='246.0' neighborhood='Ivy City, Arboretum, Trinidad, Carver Langston'>\n",
            "<Record listing_id=11176974 l.price='163.0' neighborhood='West End, Foggy Bottom, GWU'>\n",
            "<Record listing_id=11866275 l.price='166.0' neighborhood='West End, Foggy Bottom, GWU'>\n",
            "<Record listing_id=11868093 l.price='157.0' neighborhood='West End, Foggy Bottom, GWU'>\n",
            "<Record listing_id=11868625 l.price='167.0' neighborhood='West End, Foggy Bottom, GWU'>\n",
            "<Record listing_id=6491631 l.price='459.0' neighborhood='Near Southeast, Navy Yard'>\n",
            "<Record listing_id=12758628 l.price='207.0' neighborhood='Woodridge, Fort Lincoln, Gateway'>\n",
            "<Record listing_id=11413078 l.price='289.0' neighborhood='Historic Anacostia'>\n",
            "<Record listing_id=437005 l.price='345.0' neighborhood='Historic Anacostia'>\n",
            "<Record listing_id=893529 l.price='350.0' neighborhood='Edgewood, Bloomingdale, Truxton Circle, Eckington'>\n",
            "<Record listing_id=10978189 l.price='212.0' neighborhood='Edgewood, Bloomingdale, Truxton Circle, Eckington'>\n",
            "<Record listing_id=12851881 l.price='166.0' neighborhood='Edgewood, Bloomingdale, Truxton Circle, Eckington'>\n",
            "<Record listing_id=14444701 l.price='166.0' neighborhood='Edgewood, Bloomingdale, Truxton Circle, Eckington'>\n",
            "<Record listing_id=1433344 l.price='336.0' neighborhood='Capitol Hill, Lincoln Park'>\n",
            "<Record listing_id=3635540 l.price='158.0' neighborhood='Capitol Hill, Lincoln Park'>\n",
            "<Record listing_id=4055607 l.price='180.0' neighborhood='Capitol Hill, Lincoln Park'>\n",
            "<Record listing_id=4841217 l.price='267.0' neighborhood='Capitol Hill, Lincoln Park'>\n",
            "<Record listing_id=4978657 l.price='211.0' neighborhood='Capitol Hill, Lincoln Park'>\n",
            "<Record listing_id=5026926 l.price='309.0' neighborhood='Capitol Hill, Lincoln Park'>\n",
            "<Record listing_id=6227307 l.price='389.0' neighborhood='Capitol Hill, Lincoln Park'>\n",
            "<Record listing_id=6569449 l.price='197.0' neighborhood='Capitol Hill, Lincoln Park'>\n",
            "<Record listing_id=6836332 l.price='165.0' neighborhood='Capitol Hill, Lincoln Park'>\n",
            "<Record listing_id=9113304 l.price='301.0' neighborhood='Capitol Hill, Lincoln Park'>\n",
            "<Record listing_id=9156290 l.price='182.0' neighborhood='Capitol Hill, Lincoln Park'>\n",
            "<Record listing_id=10526371 l.price='178.0' neighborhood='Capitol Hill, Lincoln Park'>\n",
            "<Record listing_id=10543751 l.price='177.0' neighborhood='Capitol Hill, Lincoln Park'>\n",
            "<Record listing_id=10543985 l.price='172.0' neighborhood='Capitol Hill, Lincoln Park'>\n",
            "<Record listing_id=10544363 l.price='206.0' neighborhood='Capitol Hill, Lincoln Park'>\n",
            "<Record listing_id=11183754 l.price='151.0' neighborhood='Capitol Hill, Lincoln Park'>\n",
            "<Record listing_id=11543343 l.price='174.0' neighborhood='Capitol Hill, Lincoln Park'>\n",
            "<Record listing_id=11553508 l.price='321.0' neighborhood='Capitol Hill, Lincoln Park'>\n",
            "<Record listing_id=12784285 l.price='215.0' neighborhood='Capitol Hill, Lincoln Park'>\n",
            "<Record listing_id=12866878 l.price='185.0' neighborhood='Capitol Hill, Lincoln Park'>\n",
            "<Record listing_id=13491888 l.price='231.0' neighborhood='Capitol Hill, Lincoln Park'>\n",
            "<Record listing_id=13894976 l.price='338.0' neighborhood='Capitol Hill, Lincoln Park'>\n",
            "<Record listing_id=355527 l.price='184.0' neighborhood='Capitol Hill, Lincoln Park'>\n",
            "<Record listing_id=409582 l.price='190.0' neighborhood='Capitol Hill, Lincoln Park'>\n",
            "<Record listing_id=2097166 l.price='232.0' neighborhood='Spring Valley, Palisades, Wesley Heights, Foxhall Crescent, Foxhall Village, Georgetown Reservoir'>\n",
            "<Record listing_id=3894739 l.price='260.0' neighborhood='Cathedral Heights, McLean Gardens, Glover Park'>\n",
            "<Record listing_id=8479494 l.price='1089.0' neighborhood='Cathedral Heights, McLean Gardens, Glover Park'>\n",
            "<Record listing_id=14201057 l.price='160.0' neighborhood='Cathedral Heights, McLean Gardens, Glover Park'>\n",
            "<Record listing_id=883653 l.price='245.0' neighborhood='Columbia Heights, Mt. Pleasant, Pleasant Plains, Park View'>\n",
            "<Record listing_id=1761677 l.price='442.0' neighborhood='Columbia Heights, Mt. Pleasant, Pleasant Plains, Park View'>\n",
            "<Record listing_id=2259215 l.price='232.0' neighborhood='Columbia Heights, Mt. Pleasant, Pleasant Plains, Park View'>\n",
            "<Record listing_id=2622950 l.price='235.0' neighborhood='Columbia Heights, Mt. Pleasant, Pleasant Plains, Park View'>\n",
            "<Record listing_id=2919216 l.price='217.0' neighborhood='Columbia Heights, Mt. Pleasant, Pleasant Plains, Park View'>\n"
          ]
        }
      ]
    }
  ]
}